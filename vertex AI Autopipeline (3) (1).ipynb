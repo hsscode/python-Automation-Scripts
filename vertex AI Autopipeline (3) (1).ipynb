{
 "cells": [
  {
   "cell_type": "code",
   "execution_count": 1,
   "id": "7765f877",
   "metadata": {},
   "outputs": [],
   "source": [
    "# pip install google-cloud-bigquery google-cloud-storage google-cloud-aiplatform\n"
   ]
  },
  {
   "cell_type": "code",
   "execution_count": 2,
   "id": "a3591672",
   "metadata": {},
   "outputs": [],
   "source": [
    "import pandas as pd\n",
    "import db_dtypes\n",
    "from google.cloud import bigquery,aiplatform,storage\n",
    "project_id = \"industry-buying\"\n",
    "bigquery_client = bigquery.Client(project=project_id)\n",
    "storage_client = storage.Client()\n",
    "from google.cloud import aiplatform\n",
    "client = bigquery.Client(project=project_id)\n",
    "from datetime import datetime"
   ]
  },
  {
   "cell_type": "code",
   "execution_count": null,
   "id": "89af5ad1",
   "metadata": {},
   "outputs": [],
   "source": []
  },
  {
   "cell_type": "code",
   "execution_count": 3,
   "id": "fea2d1bc",
   "metadata": {},
   "outputs": [],
   "source": [
    "# #  BigQuery table name\n",
    "# table_name = \"batch_input_cm\"\n",
    "# project_id = \"industry-buying\"\n",
    "# dataset_name= \"reports\"\n",
    "\n"
   ]
  },
  {
   "cell_type": "code",
   "execution_count": 4,
   "id": "fee3ef56",
   "metadata": {},
   "outputs": [],
   "source": [
    "# Initialize Vertex AI model service client\n",
    "aiplatform.init(project=project_id)"
   ]
  },
  {
   "cell_type": "code",
   "execution_count": 5,
   "id": "c1aa2055",
   "metadata": {},
   "outputs": [],
   "source": [
    "# Initialize connection\n",
    "aiplatform.init(location='us-central1')"
   ]
  },
  {
   "cell_type": "code",
   "execution_count": 6,
   "id": "ec4bdca8",
   "metadata": {},
   "outputs": [],
   "source": [
    "# Get model that will make a batch prediction\n",
    "model_id = 'projects/industry-buying/locations/us-central1/models/1077334478243758080'\n",
    "model = aiplatform.Model(model_id)"
   ]
  },
  {
   "cell_type": "code",
   "execution_count": 7,
   "id": "b0f57f87",
   "metadata": {},
   "outputs": [
    {
     "data": {
      "text/plain": [
       "QueryJob<project=industry-buying, location=US, id=b8635152-0897-42e1-8266-953957a8ab1b>"
      ]
     },
     "execution_count": 7,
     "metadata": {},
     "output_type": "execute_result"
    }
   ],
   "source": [
    "    #refreshing input table for batch data\n",
    "\n",
    "    tablequery= '''\n",
    "\n",
    "\n",
    "    create or replace table google_clid.batchinput_cm as \n",
    "\n",
    "    SELECT\n",
    "      CAST(COALESCE(b.length,0) AS float64) AS length,\n",
    "      CAST(COALESCE(b.breadth,0) AS float64) AS breadth,\n",
    "      CAST(COALESCE(b.height,0) AS float64) AS height,\n",
    "      CAST(COALESCE(b.weight,0) AS float64) AS weight,\n",
    "      order_date,\n",
    "      COALESCE(booked_device,'android') AS booked_device,\n",
    "      order_quantity,\n",
    "      CAST(order_tax AS float64) order_tax,\n",
    "      CAST(coupoun_discount AS float64) AS coupoun_discount,\n",
    "      CAST(a.total AS float64) total,\n",
    "      a.sku,\n",
    "      COALESCE(sku_type,'MarketPlace SKU') AS sku_type,\n",
    "      COALESCE(Brand,'lazer') AS Brand,\n",
    "      COALESCE(leaf_category,'Air Cooler') AS leaf_category,\n",
    "      COALESCE(category,'Appliances') AS category,\n",
    "      COALESCE(c1_category,'Furniture') AS c1_category,\n",
    "      payment_mode,\n",
    "      a.line_status AS state,\n",
    "      city,\n",
    "    IF\n",
    "      (LENGTH(COALESCE(utm_source, 'unknown')) < 4, 'unknown', COALESCE(utm_source, 'unknown')) AS utm_source,\n",
    "      CAST(shipping_charge AS float64) AS shipping_charge,\n",
    "      CAST(cod_charge AS float64) cod_charge,\n",
    "      CAST(bulk_discount AS float64) AS bulk_discount,\n",
    "    IF\n",
    "      (LENGTH(COALESCE(utm_campaign, 'unknown')) < 4, 'unknown', COALESCE(utm_campaign, 'unknown')) AS utm_campaign,\n",
    "    IF\n",
    "      (LENGTH(COALESCE(utm_medium, 'unknown')) < 4, 'unknown', COALESCE(utm_medium, 'unknown')) AS utm_medium,\n",
    "      CAST(pincode AS int64) pincode,\n",
    "      CAST(order_no AS int64) order_no,\n",
    "      COALESCE(allocated_vendor_code, 0)allocated_vendor_code,\n",
    "      COALESCE(warehouse_code, 'unknown') warehouse_code,\n",
    "      CASE\n",
    "        WHEN Order_Check_Gstin= \"YES\" THEN TRUE\n",
    "      ELSE\n",
    "      FALSE\n",
    "    END\n",
    "      AS Order_Check_Gstin,\n",
    "      CAST(B_GMV AS float64) AS B_GMV,\n",
    "      CAST(tax_excl_incl_ship_cod AS float64) tax_excl_incl_ship_cod,\n",
    "      CAST(total_cp_actual AS float64) total_cp_actual,\n",
    "      a.User_AON,\n",
    "      CAST( (tax_excl_incl_ship_cod - total_cp_actual) / tax_excl_incl_ship_cod AS float64) AS GP_PCT,\n",
    "      CAST(( tax_excl_incl_ship_cod - total_cp_actual ) AS float64) AS GP,\n",
    "      CAST((((CASE\n",
    "                WHEN return_flag = 0 THEN tax_excl_incl_ship_cod - total_cp_actual\n",
    "              ELSE\n",
    "              0\n",
    "            END\n",
    "              )- freight_total)) AS float64) AS CM\n",
    "    FROM\n",
    "      `analytics_writedb.ff_daily_cm1_tbl` a\n",
    "    LEFT JOIN\n",
    "      reports.sku_dimension b\n",
    "    ON\n",
    "      a.sku=b.sku\n",
    "    WHERE\n",
    "      total_cp_actual<=tax_excl_incl_ship_cod\n",
    "      AND order_date between DATE(DATE_SUB(CURRENT_DATE(), INTERVAL 32 day)) and   DATE(DATE_SUB(CURRENT_DATE(), INTERVAL 1 day))\n",
    "      AND tax_excl_incl_ship_cod>0 \n",
    "\n",
    "\n",
    "\n",
    "    '''\n",
    "\n",
    "\n",
    "    client.query(tablequery)"
   ]
  },
  {
   "cell_type": "code",
   "execution_count": 8,
   "id": "25c45cb1",
   "metadata": {},
   "outputs": [],
   "source": [
    "# defining batch input, output and job name \n",
    "\n",
    "\n",
    "current_date = datetime.now().strftime('%d%m%Y')\n",
    "batch_current_date = f'batch_{current_date}'  \n",
    "\n",
    "job_display_name = batch_current_date\n",
    "bigquery_source = 'bq://industry-buying.google_clid.batchinput_cm'\n",
    "bigquery_destination_prefix = 'bq://industry-buying.google_clid'\n"
   ]
  },
  {
   "cell_type": "code",
   "execution_count": null,
   "id": "95724274",
   "metadata": {},
   "outputs": [],
   "source": []
  },
  {
   "cell_type": "code",
   "execution_count": null,
   "id": "1617a425",
   "metadata": {},
   "outputs": [],
   "source": []
  },
  {
   "cell_type": "code",
   "execution_count": null,
   "id": "bdb0b444",
   "metadata": {},
   "outputs": [],
   "source": []
  },
  {
   "cell_type": "code",
   "execution_count": 9,
   "id": "d99b0cb5",
   "metadata": {},
   "outputs": [
    {
     "name": "stdout",
     "output_type": "stream",
     "text": [
      "Creating BatchPredictionJob\n",
      "BatchPredictionJob created. Resource name: projects/378362668644/locations/us-central1/batchPredictionJobs/3973545068987416576\n",
      "To use this BatchPredictionJob in another session:\n",
      "bpj = aiplatform.BatchPredictionJob('projects/378362668644/locations/us-central1/batchPredictionJobs/3973545068987416576')\n",
      "View Batch Prediction Job:\n",
      "https://console.cloud.google.com/ai/platform/locations/us-central1/batch-predictions/3973545068987416576?project=378362668644\n",
      "BatchPredictionJob projects/378362668644/locations/us-central1/batchPredictionJobs/3973545068987416576 current state:\n",
      "JobState.JOB_STATE_RUNNING\n",
      "BatchPredictionJob projects/378362668644/locations/us-central1/batchPredictionJobs/3973545068987416576 current state:\n",
      "JobState.JOB_STATE_RUNNING\n",
      "BatchPredictionJob projects/378362668644/locations/us-central1/batchPredictionJobs/3973545068987416576 current state:\n",
      "JobState.JOB_STATE_RUNNING\n",
      "BatchPredictionJob projects/378362668644/locations/us-central1/batchPredictionJobs/3973545068987416576 current state:\n",
      "JobState.JOB_STATE_RUNNING\n",
      "BatchPredictionJob projects/378362668644/locations/us-central1/batchPredictionJobs/3973545068987416576 current state:\n",
      "JobState.JOB_STATE_RUNNING\n",
      "BatchPredictionJob projects/378362668644/locations/us-central1/batchPredictionJobs/3973545068987416576 current state:\n",
      "JobState.JOB_STATE_RUNNING\n",
      "BatchPredictionJob projects/378362668644/locations/us-central1/batchPredictionJobs/3973545068987416576 current state:\n",
      "JobState.JOB_STATE_RUNNING\n",
      "BatchPredictionJob projects/378362668644/locations/us-central1/batchPredictionJobs/3973545068987416576 current state:\n",
      "JobState.JOB_STATE_SUCCEEDED\n",
      "BatchPredictionJob run completed. Resource name: projects/378362668644/locations/us-central1/batchPredictionJobs/3973545068987416576\n"
     ]
    }
   ],
   "source": [
    "# Creating batch prediction job\n",
    "batch_prediction_job = model.batch_predict(\n",
    "    job_display_name=job_display_name,\n",
    "    bigquery_source=bigquery_source,\n",
    "    bigquery_destination_prefix=bigquery_destination_prefix)"
   ]
  },
  {
   "cell_type": "code",
   "execution_count": 10,
   "id": "8aad4489",
   "metadata": {},
   "outputs": [
    {
     "data": {
      "text/plain": [
       "bigquery_output_dataset: \"bq://industry-buying.google_clid\"\n",
       "bigquery_output_table: \"predictions_2023_12_05T20_03_30_720Z_601\""
      ]
     },
     "execution_count": 10,
     "metadata": {},
     "output_type": "execute_result"
    }
   ],
   "source": [
    "# job output information\n",
    "batch_prediction_job.output_info"
   ]
  },
  {
   "cell_type": "code",
   "execution_count": null,
   "id": "be2e3861",
   "metadata": {},
   "outputs": [],
   "source": []
  },
  {
   "cell_type": "code",
   "execution_count": 11,
   "id": "08590d85",
   "metadata": {},
   "outputs": [
    {
     "data": {
      "text/plain": [
       "'bigquery_output_dataset: \"bq://industry-buying.google_clid\"\\nbigquery_output_table: \"predictions_2023_12_05T20_03_30_720Z_601\"\\n'"
      ]
     },
     "execution_count": 11,
     "metadata": {},
     "output_type": "execute_result"
    }
   ],
   "source": [
    "# Convert output job information into string\n",
    "output_info_str = str(batch_prediction_job.output_info)\n",
    "output_info_str"
   ]
  },
  {
   "cell_type": "code",
   "execution_count": 12,
   "id": "3d63e7a8",
   "metadata": {},
   "outputs": [
    {
     "data": {
      "text/plain": [
       "['bigquery_output_dataset:',\n",
       " '\"bq://industry-buying.google_clid\"',\n",
       " 'bigquery_output_table:',\n",
       " '\"predictions_2023_12_05T20_03_30_720Z_601\"']"
      ]
     },
     "execution_count": 12,
     "metadata": {},
     "output_type": "execute_result"
    }
   ],
   "source": [
    "# Split elements of the output by whitespace\n",
    "output_info_list = output_info_str.split()\n",
    "output_info_list"
   ]
  },
  {
   "cell_type": "code",
   "execution_count": 13,
   "id": "921b9953",
   "metadata": {},
   "outputs": [
    {
     "data": {
      "text/plain": [
       "['bigquery_output_dataset:',\n",
       " 'bq://industry-buying.google_clid',\n",
       " 'bigquery_output_table:',\n",
       " 'predictions_2023_12_05T20_03_30_720Z_601']"
      ]
     },
     "execution_count": 13,
     "metadata": {},
     "output_type": "execute_result"
    }
   ],
   "source": [
    "output_info_list = [x.replace('\"', '') for x in output_info_list]\n",
    "output_info_list"
   ]
  },
  {
   "cell_type": "code",
   "execution_count": 14,
   "id": "6b7d40f8",
   "metadata": {},
   "outputs": [
    {
     "name": "stdout",
     "output_type": "stream",
     "text": [
      "Project & dataset: bq://industry-buying.google_clid \n",
      "Table: predictions_2023_12_05T20_03_30_720Z_601\n"
     ]
    }
   ],
   "source": [
    "# Part which holds project and dataset name\n",
    "dataset_str = output_info_list[1]\n",
    "\n",
    "# Part which holds table name\n",
    "table_str = output_info_list[3]\n",
    "\n",
    "print(f'Project & dataset: {dataset_str} \\nTable: {table_str}')"
   ]
  },
  {
   "cell_type": "code",
   "execution_count": 15,
   "id": "efaecd17",
   "metadata": {},
   "outputs": [
    {
     "data": {
      "text/plain": [
       "'industry-buying.google_clid'"
      ]
     },
     "execution_count": 15,
     "metadata": {},
     "output_type": "execute_result"
    }
   ],
   "source": [
    "# Get everything after 'bg://' part from the dataset_str\n",
    "import re\n",
    "\n",
    "# Define regex pattern to look for\n",
    "pattern = r'(?<=bq://).*'\n",
    "\n",
    "# Run the regex search and show variable\n",
    "result = re.search(pattern, dataset_str)\n",
    "dataset_str = result.group(0)\n",
    "dataset_str"
   ]
  },
  {
   "cell_type": "code",
   "execution_count": 16,
   "id": "dafe2fd3",
   "metadata": {},
   "outputs": [
    {
     "data": {
      "text/plain": [
       "'industry-buying.google_clid.predictions_2023_12_05T20_03_30_720Z_601'"
      ]
     },
     "execution_count": 16,
     "metadata": {},
     "output_type": "execute_result"
    }
   ],
   "source": [
    "# Define Table ID \n",
    "table_id = dataset_str + '.' + table_str\n",
    "table_id"
   ]
  },
  {
   "cell_type": "code",
   "execution_count": 17,
   "id": "0a6e5446",
   "metadata": {},
   "outputs": [],
   "source": [
    "# Read bigquery library and define client\n",
    "from google.cloud import bigquery\n",
    "client = bigquery.Client()"
   ]
  },
  {
   "cell_type": "code",
   "execution_count": 18,
   "id": "4c1eb52a",
   "metadata": {},
   "outputs": [
    {
     "data": {
      "text/plain": [
       "QueryJob<project=industry-buying, location=US, id=f033fb1b-861f-4073-b78d-199101f43063>"
      ]
     },
     "execution_count": 18,
     "metadata": {},
     "output_type": "execute_result"
    }
   ],
   "source": [
    "# Define query which will create a table in BigQuery and run it\n",
    "query = f\"\"\"\n",
    "\n",
    "\n",
    "CREATE OR REPLACE TABLE google_clid.cm_prediction_daily AS\n",
    "(\n",
    "\n",
    "\n",
    "select utm_campaign,predicted_CM.value as predicted_cm , order_no \n",
    "   \n",
    "  FROM \n",
    "  \n",
    "  {table_id}\n",
    "\n",
    ")\n",
    "\"\"\"\n",
    "client.query(query)"
   ]
  },
  {
   "cell_type": "code",
   "execution_count": 19,
   "id": "b0530664",
   "metadata": {},
   "outputs": [],
   "source": [
    "# # Delete original raw table with results as it is no longer needed\n",
    "# client.delete_table(table_id)\n",
    "# print(\"Deleted table '{}'.\".format(table_id))"
   ]
  },
  {
   "cell_type": "code",
   "execution_count": 20,
   "id": "a324aee1",
   "metadata": {},
   "outputs": [
    {
     "data": {
      "text/plain": [
       "QueryJob<project=industry-buying, location=US, id=2f32c7a1-f9e4-4797-93f6-95d0b959dc3c>"
      ]
     },
     "execution_count": 20,
     "metadata": {},
     "output_type": "execute_result"
    }
   ],
   "source": [
    "query2= \"\"\"\n",
    "\n",
    "create or replace view  google_clid.readjustment_conversion as \n",
    "select  \n",
    "  Google_Click_ID, \n",
    "   a.utm_campaign as Conversion_Name, \n",
    "   Conversion_Time, \n",
    "   Adjustment_Time,\n",
    "   'RESTATE' as AdjustmentType,\n",
    "\n",
    "  sum(case when predicted_cm<=1 then 1 else floor(predicted_cm) end) as Adjusted_Value  ,\n",
    " \n",
    " \n",
    " 'INR' as Adjusted_Value_Currency \n",
    "\n",
    "\n",
    " from \n",
    "\n",
    "(select utm_campaign,predicted_cm as predicted_cm , order_no from google_clid.cm_prediction_daily ) a \n",
    "\n",
    "inner join \n",
    "\n",
    "(select  a.gclid as Google_Click_ID\n",
    "\n",
    "\n",
    ",a.order_no, concat(left(cast(timestamp(a.order_booked_date) as string),19),'+0000') Conversion_Time,\n",
    "\n",
    "concat(left(cast(timestamp(current_datetime()) as string),19),'+0000') Adjustment_Time\n",
    "\n",
    "\n",
    " \n",
    " \n",
    " from `emtex.orders_order`  a\n",
    "\n",
    "\n",
    " where \n",
    "\n",
    "\n",
    " length(gclid)>5 \n",
    " ) b \n",
    "\n",
    "on safe_cast(a.order_no as int64)=safe_cast(b.order_no as int64)\n",
    "\n",
    "\n",
    "group by 1,2,3,4\n",
    "\n",
    "\n",
    "\n",
    "\n",
    "\n",
    "\"\"\"\n",
    "\n",
    "\n",
    "client.query(query2)\n",
    "\n",
    "\n"
   ]
  },
  {
   "cell_type": "code",
   "execution_count": 21,
   "id": "827968c8",
   "metadata": {},
   "outputs": [
    {
     "data": {
      "text/plain": [
       "QueryJob<project=industry-buying, location=US, id=43f7ac7b-bce9-417e-a5b3-6bb83d25b645>"
      ]
     },
     "execution_count": 21,
     "metadata": {},
     "output_type": "execute_result"
    }
   ],
   "source": [
    "\n",
    "query3= \"\"\"\n",
    "\n",
    "select * from google_clid.readjustment_conversion\n",
    "\n",
    "\"\"\"\n",
    "client.query(query3)"
   ]
  },
  {
   "cell_type": "code",
   "execution_count": 22,
   "id": "d1a4a5a4",
   "metadata": {},
   "outputs": [],
   "source": [
    "\n",
    "#getting this query3 data into dataframe to export this as a csv\n",
    "df = client.query(query3).to_dataframe()"
   ]
  },
  {
   "cell_type": "code",
   "execution_count": 23,
   "id": "81060774",
   "metadata": {},
   "outputs": [],
   "source": [
    "file_path= \"D:\\\\Prediction\\\\New_Working_21112023\\\\clid\\\\new_clid.csv\"\n",
    "df.to_csv(file_path, index=False)\n",
    "\n"
   ]
  },
  {
   "cell_type": "code",
   "execution_count": 24,
   "id": "6c863b42",
   "metadata": {},
   "outputs": [],
   "source": [
    "query4= \"\"\"select * from google_clid.readjustment_conversion\"\"\"\n"
   ]
  },
  {
   "cell_type": "code",
   "execution_count": 25,
   "id": "8cfe8ac3",
   "metadata": {},
   "outputs": [],
   "source": [
    "#  BigQuery table name\n",
    "table_name = \"glcid_log_table\"\n",
    "project_id = \"industry-buying\"\n",
    "dataset_name= \"google_clid\"\n",
    "\n"
   ]
  },
  {
   "cell_type": "code",
   "execution_count": 26,
   "id": "35896d7d",
   "metadata": {},
   "outputs": [
    {
     "data": {
      "text/plain": [
       "[]"
      ]
     },
     "execution_count": 26,
     "metadata": {},
     "output_type": "execute_result"
    }
   ],
   "source": [
    "destination_table = f\"{project_id}.{dataset_name}.{table_name}\"\n",
    "query_job = client.query(query4)\n",
    "# Get the query results\n",
    "results = query_job.result()\n",
    "\n",
    "# Insert the results into the destination table\n",
    "rows_to_insert = [dict(row) for row in results]\n",
    "\n",
    "client.insert_rows_json(destination_table, rows_to_insert)\n",
    "\n"
   ]
  },
  {
   "cell_type": "code",
   "execution_count": null,
   "id": "8e1bc467",
   "metadata": {},
   "outputs": [],
   "source": []
  }
 ],
 "metadata": {
  "kernelspec": {
   "display_name": "Python 3 (ipykernel)",
   "language": "python",
   "name": "python3"
  },
  "language_info": {
   "codemirror_mode": {
    "name": "ipython",
    "version": 3
   },
   "file_extension": ".py",
   "mimetype": "text/x-python",
   "name": "python",
   "nbconvert_exporter": "python",
   "pygments_lexer": "ipython3",
   "version": "3.10.9"
  }
 },
 "nbformat": 4,
 "nbformat_minor": 5
}
